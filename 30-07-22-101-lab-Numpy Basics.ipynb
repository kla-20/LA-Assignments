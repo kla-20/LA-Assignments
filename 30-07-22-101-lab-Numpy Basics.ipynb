{
 "cells": [
  {
   "cell_type": "markdown",
   "id": "5d062f6e",
   "metadata": {},
   "source": [
    "Numpy Basic Operations"
   ]
  },
  {
   "cell_type": "code",
   "execution_count": 36,
   "id": "5150ed6f",
   "metadata": {},
   "outputs": [
    {
     "data": {
      "text/plain": [
       "array([[1, 2, 3],\n",
       "       [3, 4, 5],\n",
       "       [5, 6, 7]])"
      ]
     },
     "execution_count": 36,
     "metadata": {},
     "output_type": "execute_result"
    }
   ],
   "source": [
    "import numpy as np\n",
    "\n",
    "a = np.array([2,3,6])\n",
    "a\n",
    "a.dtype\n",
    "b = np.array([2.36,5.59,6.62])\n",
    "b\n",
    "b.dtype\n",
    "\n",
    "c  = complex(3,2)\n",
    "d = complex(5,6)\n",
    "\n",
    "z = np.array([c,d])\n",
    "#k = np.array([z,a])\n",
    "\n",
    "y = np.array([a,b])\n",
    "y\n",
    "y.dtype\n",
    "#y.len()\n",
    "za = np.array([[1,2,3],[3,4,5],[5,6,7]])\n",
    "za\n"
   ]
  },
  {
   "cell_type": "code",
   "execution_count": 38,
   "id": "f50217e9",
   "metadata": {},
   "outputs": [
    {
     "data": {
      "text/plain": [
       "array([[0., 0., 0., 0.],\n",
       "       [0., 0., 0., 0.],\n",
       "       [0., 0., 0., 0.]])"
      ]
     },
     "execution_count": 38,
     "metadata": {},
     "output_type": "execute_result"
    }
   ],
   "source": [
    "np.zeros((3,4))"
   ]
  },
  {
   "cell_type": "code",
   "execution_count": 40,
   "id": "f6eca4db",
   "metadata": {},
   "outputs": [
    {
     "data": {
      "text/plain": [
       "array([[[1, 1, 1, 1],\n",
       "        [1, 1, 1, 1],\n",
       "        [1, 1, 1, 1]],\n",
       "\n",
       "       [[1, 1, 1, 1],\n",
       "        [1, 1, 1, 1],\n",
       "        [1, 1, 1, 1]]], dtype=int16)"
      ]
     },
     "execution_count": 40,
     "metadata": {},
     "output_type": "execute_result"
    }
   ],
   "source": [
    "np.ones((2,3,4),dtype=np.int16)"
   ]
  },
  {
   "cell_type": "code",
   "execution_count": 41,
   "id": "cb8c3c0e",
   "metadata": {},
   "outputs": [
    {
     "data": {
      "text/plain": [
       "array([[1.+0.j, 2.+0.j, 3.+0.j],\n",
       "       [4.+0.j, 5.+0.j, 6.+0.j]])"
      ]
     },
     "execution_count": 41,
     "metadata": {},
     "output_type": "execute_result"
    }
   ],
   "source": [
    "op = np.array([(1,2,3),(4,5,6)] , dtype=complex)\n",
    "op"
   ]
  },
  {
   "cell_type": "code",
   "execution_count": 42,
   "id": "ec43b00c",
   "metadata": {},
   "outputs": [
    {
     "data": {
      "text/plain": [
       "array([[0., 0., 0.],\n",
       "       [0., 0., 0.]])"
      ]
     },
     "execution_count": 42,
     "metadata": {},
     "output_type": "execute_result"
    }
   ],
   "source": [
    "np.empty((2,3))"
   ]
  },
  {
   "cell_type": "code",
   "execution_count": 43,
   "id": "bd457cae",
   "metadata": {},
   "outputs": [
    {
     "data": {
      "text/plain": [
       "array([10, 15, 20, 25])"
      ]
     },
     "execution_count": 43,
     "metadata": {},
     "output_type": "execute_result"
    }
   ],
   "source": [
    "np.arange(10,30,5)"
   ]
  },
  {
   "cell_type": "code",
   "execution_count": 44,
   "id": "dcbc6249",
   "metadata": {},
   "outputs": [
    {
     "data": {
      "text/plain": [
       "array([0. , 0.3, 0.6, 0.9, 1.2, 1.5, 1.8])"
      ]
     },
     "execution_count": 44,
     "metadata": {},
     "output_type": "execute_result"
    }
   ],
   "source": [
    "np.arange(0,2,0.3)"
   ]
  },
  {
   "cell_type": "markdown",
   "id": "5032ca23",
   "metadata": {},
   "source": [
    "The linspace creates an array of  9 elements within 0 and 2"
   ]
  },
  {
   "cell_type": "code",
   "execution_count": 45,
   "id": "7ac5df72",
   "metadata": {},
   "outputs": [
    {
     "data": {
      "text/plain": [
       "array([0.  , 0.25, 0.5 , 0.75, 1.  , 1.25, 1.5 , 1.75, 2.  ])"
      ]
     },
     "execution_count": 45,
     "metadata": {},
     "output_type": "execute_result"
    }
   ],
   "source": [
    "from numpy import pi\n",
    "np.linspace(0,2,9)"
   ]
  },
  {
   "cell_type": "markdown",
   "id": "fe3b0d94",
   "metadata": {},
   "source": [
    "linspace"
   ]
  },
  {
   "cell_type": "code",
   "execution_count": 47,
   "id": "aeea077f",
   "metadata": {},
   "outputs": [],
   "source": [
    "x = np.linspace(0,2*pi,100)\n",
    "f = np.sin(x)"
   ]
  },
  {
   "cell_type": "markdown",
   "id": "39a5b5ba",
   "metadata": {},
   "source": [
    "calculating the sin values"
   ]
  },
  {
   "cell_type": "code",
   "execution_count": 69,
   "id": "aece583a",
   "metadata": {},
   "outputs": [
    {
     "name": "stdout",
     "output_type": "stream",
     "text": [
      "[0.        0.5       0.8660254 1.       ]\n"
     ]
    }
   ],
   "source": [
    "y = np.linspace(0,pi/2,4)\n",
    "f = np.sin(y)\n",
    "#for i in y:\n",
    "    #print(\"sin\",i,np.sin([i]))\n",
    "print(f)   "
   ]
  },
  {
   "cell_type": "markdown",
   "id": "b7c89da1",
   "metadata": {},
   "source": [
    "User Defined Functions    "
   ]
  },
  {
   "cell_type": "code",
   "execution_count": 70,
   "id": "2efa1ecf",
   "metadata": {},
   "outputs": [
    {
     "name": "stdout",
     "output_type": "stream",
     "text": [
      "[0.         0.14354758 1.14838062 3.87578459]\n"
     ]
    }
   ],
   "source": [
    "def f(x):\n",
    "    return(x**3)\n",
    "print(f(y))"
   ]
  },
  {
   "cell_type": "markdown",
   "id": "a97e8109",
   "metadata": {},
   "source": [
    "Send Angle give the sin value"
   ]
  },
  {
   "cell_type": "code",
   "execution_count": 81,
   "id": "e7efba77",
   "metadata": {},
   "outputs": [
    {
     "name": "stdout",
     "output_type": "stream",
     "text": [
      "Give an angle:90\n",
      "The sin value for 90 is 0.8939966636005579\n"
     ]
    }
   ],
   "source": [
    "import numpy as np\n",
    "def answer(x1):\n",
    "    print(f'The sin value for {x1} is {np.sin(x1)}')\n",
    "qs = input('Give an angle:')\n",
    "answer(int(qs))"
   ]
  },
  {
   "cell_type": "markdown",
   "id": "ea70064d",
   "metadata": {},
   "source": [
    "printing arrays"
   ]
  },
  {
   "cell_type": "code",
   "execution_count": 82,
   "id": "516b0251",
   "metadata": {},
   "outputs": [
    {
     "data": {
      "text/plain": [
       "array([0, 1, 2, 3, 4, 5])"
      ]
     },
     "execution_count": 82,
     "metadata": {},
     "output_type": "execute_result"
    }
   ],
   "source": [
    "a= np.arange(6)\n",
    "a"
   ]
  },
  {
   "cell_type": "code",
   "execution_count": 83,
   "id": "b915ba39",
   "metadata": {},
   "outputs": [
    {
     "data": {
      "text/plain": [
       "array([[ 0,  1,  2],\n",
       "       [ 3,  4,  5],\n",
       "       [ 6,  7,  8],\n",
       "       [ 9, 10, 11]])"
      ]
     },
     "execution_count": 83,
     "metadata": {},
     "output_type": "execute_result"
    }
   ],
   "source": [
    "b = np.arange(12).reshape(4,3)\n",
    "b"
   ]
  },
  {
   "cell_type": "code",
   "execution_count": 85,
   "id": "1f77fbb0",
   "metadata": {},
   "outputs": [
    {
     "data": {
      "text/plain": [
       "array([[[ 0,  1,  2],\n",
       "        [ 3,  4,  5],\n",
       "        [ 6,  7,  8],\n",
       "        [ 9, 10, 11]],\n",
       "\n",
       "       [[12, 13, 14],\n",
       "        [15, 16, 17],\n",
       "        [18, 19, 20],\n",
       "        [21, 22, 23]]])"
      ]
     },
     "execution_count": 85,
     "metadata": {},
     "output_type": "execute_result"
    }
   ],
   "source": [
    "c = np.arange(24).reshape(2,4,3)\n",
    "c"
   ]
  },
  {
   "cell_type": "markdown",
   "id": "59481d0a",
   "metadata": {},
   "source": [
    "large array"
   ]
  },
  {
   "cell_type": "code",
   "execution_count": 87,
   "id": "358fc1a6",
   "metadata": {},
   "outputs": [
    {
     "data": {
      "text/plain": [
       "array([   0,    1,    2, ..., 9997, 9998, 9999])"
      ]
     },
     "execution_count": 87,
     "metadata": {},
     "output_type": "execute_result"
    }
   ],
   "source": [
    "z = np.arange(10000)\n",
    "z"
   ]
  },
  {
   "cell_type": "code",
   "execution_count": 93,
   "id": "3b90eb59",
   "metadata": {},
   "outputs": [
    {
     "name": "stdout",
     "output_type": "stream",
     "text": [
      "[[[  0   1   2   3   4   5   6   7   8   9  10  11  12  13  14  15  16\n",
      "    17  18  19]\n",
      "  [ 20  21  22  23  24  25  26  27  28  29  30  31  32  33  34  35  36\n",
      "    37  38  39]\n",
      "  [ 40  41  42  43  44  45  46  47  48  49  50  51  52  53  54  55  56\n",
      "    57  58  59]\n",
      "  [ 60  61  62  63  64  65  66  67  68  69  70  71  72  73  74  75  76\n",
      "    77  78  79]\n",
      "  [ 80  81  82  83  84  85  86  87  88  89  90  91  92  93  94  95  96\n",
      "    97  98  99]\n",
      "  [100 101 102 103 104 105 106 107 108 109 110 111 112 113 114 115 116\n",
      "   117 118 119]\n",
      "  [120 121 122 123 124 125 126 127 128 129 130 131 132 133 134 135 136\n",
      "   137 138 139]\n",
      "  [140 141 142 143 144 145 146 147 148 149 150 151 152 153 154 155 156\n",
      "   157 158 159]\n",
      "  [160 161 162 163 164 165 166 167 168 169 170 171 172 173 174 175 176\n",
      "   177 178 179]\n",
      "  [180 181 182 183 184 185 186 187 188 189 190 191 192 193 194 195 196\n",
      "   197 198 199]]\n",
      "\n",
      " [[200 201 202 203 204 205 206 207 208 209 210 211 212 213 214 215 216\n",
      "   217 218 219]\n",
      "  [220 221 222 223 224 225 226 227 228 229 230 231 232 233 234 235 236\n",
      "   237 238 239]\n",
      "  [240 241 242 243 244 245 246 247 248 249 250 251 252 253 254 255 256\n",
      "   257 258 259]\n",
      "  [260 261 262 263 264 265 266 267 268 269 270 271 272 273 274 275 276\n",
      "   277 278 279]\n",
      "  [280 281 282 283 284 285 286 287 288 289 290 291 292 293 294 295 296\n",
      "   297 298 299]\n",
      "  [300 301 302 303 304 305 306 307 308 309 310 311 312 313 314 315 316\n",
      "   317 318 319]\n",
      "  [320 321 322 323 324 325 326 327 328 329 330 331 332 333 334 335 336\n",
      "   337 338 339]\n",
      "  [340 341 342 343 344 345 346 347 348 349 350 351 352 353 354 355 356\n",
      "   357 358 359]\n",
      "  [360 361 362 363 364 365 366 367 368 369 370 371 372 373 374 375 376\n",
      "   377 378 379]\n",
      "  [380 381 382 383 384 385 386 387 388 389 390 391 392 393 394 395 396\n",
      "   397 398 399]]\n",
      "\n",
      " [[400 401 402 403 404 405 406 407 408 409 410 411 412 413 414 415 416\n",
      "   417 418 419]\n",
      "  [420 421 422 423 424 425 426 427 428 429 430 431 432 433 434 435 436\n",
      "   437 438 439]\n",
      "  [440 441 442 443 444 445 446 447 448 449 450 451 452 453 454 455 456\n",
      "   457 458 459]\n",
      "  [460 461 462 463 464 465 466 467 468 469 470 471 472 473 474 475 476\n",
      "   477 478 479]\n",
      "  [480 481 482 483 484 485 486 487 488 489 490 491 492 493 494 495 496\n",
      "   497 498 499]\n",
      "  [500 501 502 503 504 505 506 507 508 509 510 511 512 513 514 515 516\n",
      "   517 518 519]\n",
      "  [520 521 522 523 524 525 526 527 528 529 530 531 532 533 534 535 536\n",
      "   537 538 539]\n",
      "  [540 541 542 543 544 545 546 547 548 549 550 551 552 553 554 555 556\n",
      "   557 558 559]\n",
      "  [560 561 562 563 564 565 566 567 568 569 570 571 572 573 574 575 576\n",
      "   577 578 579]\n",
      "  [580 581 582 583 584 585 586 587 588 589 590 591 592 593 594 595 596\n",
      "   597 598 599]]\n",
      "\n",
      " [[600 601 602 603 604 605 606 607 608 609 610 611 612 613 614 615 616\n",
      "   617 618 619]\n",
      "  [620 621 622 623 624 625 626 627 628 629 630 631 632 633 634 635 636\n",
      "   637 638 639]\n",
      "  [640 641 642 643 644 645 646 647 648 649 650 651 652 653 654 655 656\n",
      "   657 658 659]\n",
      "  [660 661 662 663 664 665 666 667 668 669 670 671 672 673 674 675 676\n",
      "   677 678 679]\n",
      "  [680 681 682 683 684 685 686 687 688 689 690 691 692 693 694 695 696\n",
      "   697 698 699]\n",
      "  [700 701 702 703 704 705 706 707 708 709 710 711 712 713 714 715 716\n",
      "   717 718 719]\n",
      "  [720 721 722 723 724 725 726 727 728 729 730 731 732 733 734 735 736\n",
      "   737 738 739]\n",
      "  [740 741 742 743 744 745 746 747 748 749 750 751 752 753 754 755 756\n",
      "   757 758 759]\n",
      "  [760 761 762 763 764 765 766 767 768 769 770 771 772 773 774 775 776\n",
      "   777 778 779]\n",
      "  [780 781 782 783 784 785 786 787 788 789 790 791 792 793 794 795 796\n",
      "   797 798 799]]\n",
      "\n",
      " [[800 801 802 803 804 805 806 807 808 809 810 811 812 813 814 815 816\n",
      "   817 818 819]\n",
      "  [820 821 822 823 824 825 826 827 828 829 830 831 832 833 834 835 836\n",
      "   837 838 839]\n",
      "  [840 841 842 843 844 845 846 847 848 849 850 851 852 853 854 855 856\n",
      "   857 858 859]\n",
      "  [860 861 862 863 864 865 866 867 868 869 870 871 872 873 874 875 876\n",
      "   877 878 879]\n",
      "  [880 881 882 883 884 885 886 887 888 889 890 891 892 893 894 895 896\n",
      "   897 898 899]\n",
      "  [900 901 902 903 904 905 906 907 908 909 910 911 912 913 914 915 916\n",
      "   917 918 919]\n",
      "  [920 921 922 923 924 925 926 927 928 929 930 931 932 933 934 935 936\n",
      "   937 938 939]\n",
      "  [940 941 942 943 944 945 946 947 948 949 950 951 952 953 954 955 956\n",
      "   957 958 959]\n",
      "  [960 961 962 963 964 965 966 967 968 969 970 971 972 973 974 975 976\n",
      "   977 978 979]\n",
      "  [980 981 982 983 984 985 986 987 988 989 990 991 992 993 994 995 996\n",
      "   997 998 999]]]\n"
     ]
    }
   ],
   "source": [
    "print(np.arange(1000).reshape(5,10,20))"
   ]
  },
  {
   "cell_type": "code",
   "execution_count": 94,
   "id": "9df7960e",
   "metadata": {},
   "outputs": [
    {
     "name": "stdout",
     "output_type": "stream",
     "text": [
      "0.0\n"
     ]
    }
   ],
   "source": [
    "print(np.log(1))"
   ]
  },
  {
   "cell_type": "markdown",
   "id": "610feb48",
   "metadata": {},
   "source": [
    "print all values"
   ]
  },
  {
   "cell_type": "code",
   "execution_count": 96,
   "id": "e1d46458",
   "metadata": {},
   "outputs": [],
   "source": [
    "import sys\n",
    "c = np.set_printoptions(threshold=sys.maxsize)"
   ]
  },
  {
   "cell_type": "markdown",
   "id": "5bc34501",
   "metadata": {},
   "source": [
    "operations on arrays"
   ]
  },
  {
   "cell_type": "code",
   "execution_count": null,
   "id": "bc131dc7",
   "metadata": {},
   "outputs": [],
   "source": []
  },
  {
   "cell_type": "markdown",
   "id": "25e34633",
   "metadata": {},
   "source": [
    "axis operations"
   ]
  },
  {
   "cell_type": "code",
   "execution_count": 104,
   "id": "c42714d0",
   "metadata": {},
   "outputs": [
    {
     "name": "stdout",
     "output_type": "stream",
     "text": [
      "[[ 0  1  2  3]\n",
      " [ 4  5  6  7]\n",
      " [ 8  9 10 11]]\n",
      "\n",
      "\n",
      "[12 15 18 21]\n",
      "\n",
      "\n",
      "[ 6 22 38]\n"
     ]
    }
   ],
   "source": [
    "b = np.arange(12).reshape(3,4)\n",
    "print(b)\n",
    "print(\"\\n\")\n",
    "print(b.sum(axis=0))\n",
    "print(\"\\n\")\n",
    "print(b.sum(axis=1))"
   ]
  },
  {
   "cell_type": "markdown",
   "id": "9ea1de57",
   "metadata": {},
   "source": [
    "Assn: Find the correlation coefficient using numpy array"
   ]
  }
 ],
 "metadata": {
  "kernelspec": {
   "display_name": "Python 3 (ipykernel)",
   "language": "python",
   "name": "python3"
  },
  "language_info": {
   "codemirror_mode": {
    "name": "ipython",
    "version": 3
   },
   "file_extension": ".py",
   "mimetype": "text/x-python",
   "name": "python",
   "nbconvert_exporter": "python",
   "pygments_lexer": "ipython3",
   "version": "3.9.13"
  }
 },
 "nbformat": 4,
 "nbformat_minor": 5
}
