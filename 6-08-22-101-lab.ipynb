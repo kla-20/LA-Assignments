{
 "cells": [
  {
   "cell_type": "markdown",
   "id": "3b52b652",
   "metadata": {},
   "source": [
    "Matrix Multiplication Using Numpy "
   ]
  },
  {
   "cell_type": "code",
   "execution_count": 2,
   "id": "e6411d77",
   "metadata": {},
   "outputs": [
    {
     "name": "stdout",
     "output_type": "stream",
     "text": [
      "[[ 30  36  42  48]\n",
      " [ 66  81  96 111]\n",
      " [102 126 150 174]]\n"
     ]
    }
   ],
   "source": [
    "import numpy as np\n",
    "a= [[1,2,3],[4,5,6],[7,8,9]]\n",
    "b= [[1,2,3,4],[4,5,6,7],[7,8,9,10]]\n",
    "\n",
    "c= np.matmul(a,b)\n",
    "print(c)"
   ]
  },
  {
   "cell_type": "markdown",
   "id": "17a2cec6",
   "metadata": {},
   "source": [
    "Generalized Matrix Multiplication"
   ]
  },
  {
   "cell_type": "code",
   "execution_count": 11,
   "id": "d8fef5e5",
   "metadata": {},
   "outputs": [
    {
     "name": "stdout",
     "output_type": "stream",
     "text": [
      "[30, 36, 42, 48] \t\n",
      "[66, 81, 96, 111] \t\n",
      "[102, 126, 150, 174] \t\n"
     ]
    }
   ],
   "source": [
    "a= [[1,2,3],[4,5,6],[7,8,9]]\n",
    "b= [[1,2,3,4],[4,5,6,7],[7,8,9,10]]\n",
    "\n",
    "if(len(a[0])!=len(b)):\n",
    "    print(\"Matrix Multiplication not possible\")\n",
    "else:     \n",
    "    c = [[0]*len(b[0]) for i in range(len(a))]\n",
    "    \n",
    "    for i in range(0,len(a)):\n",
    "        for j in range(0,len(b[0])):\n",
    "            for k in range(0,len(a[0])):\n",
    "                c[i][j]+= a[i][k]*b[k][j]\n",
    "    \n",
    "    for i in range(0,len(c)):\n",
    "        print(c[i],\"\\t\")\n",
    "   \n",
    "    "
   ]
  },
  {
   "cell_type": "markdown",
   "id": "0f4d175e",
   "metadata": {},
   "source": [
    "Gaussian Elimination for a Normal Square Matrix 3 by 3 without Generalization"
   ]
  },
  {
   "cell_type": "code",
   "execution_count": 7,
   "id": "80482975",
   "metadata": {},
   "outputs": [
    {
     "name": "stdout",
     "output_type": "stream",
     "text": [
      "[1, 2, 3]\n",
      "[4, 5, 6]\n",
      "[7, 8, 9]\n",
      "\n",
      "\n",
      "[1, 2, 3]\n",
      "[0.0, 5, 6]\n",
      "[0.0, 0.0, 9]\n"
     ]
    }
   ],
   "source": [
    "A = [[1,2,3],[4,5,6],[7,8,9]]\n",
    "for c in range(0,len(A)):\n",
    "    print(A[c])\n",
    "print(\"\\n\")    \n",
    "\n",
    "A[1][0] = A[1][0] - (A[1][0]/A[0][0])*A[0][0]\n",
    "A[2][0] = A[2][0] - (A[2][0]/A[0][0])*A[0][0]\n",
    "\n",
    "# pivot is A[1][1]\n",
    "A[2][1] = A[2][1] - (A[2][1]/A[1][1])*A[1][1]\n",
    "\n",
    "\n",
    "for c in range(0,len(A)):\n",
    "    print(A[c])"
   ]
  },
  {
   "cell_type": "markdown",
   "id": "259e6977",
   "metadata": {},
   "source": [
    "Generalized Gauss Elimination for square matrix"
   ]
  },
  {
   "cell_type": "code",
   "execution_count": 24,
   "id": "f166f1cd",
   "metadata": {},
   "outputs": [
    {
     "name": "stdout",
     "output_type": "stream",
     "text": [
      "[[1, 1, 1, 1], [0.0, -10.0, -1.0, 1.0], [0.0, 0.0, -2.7, 3.7], [0.0, 0.0, 0.0, -1.2962962962962963]]\n"
     ]
    }
   ],
   "source": [
    "A = [[1,1,1,1],[6,-4,5,7],[5,2,2,9],[7,8,9,3]]\n",
    "\n",
    "for k in range(0,len(A)-1):\n",
    "    for i in range(k+1,len(A)):\n",
    "        l = A[i][k]/A[k][k]\n",
    "        for j in range(0,len(A)):\n",
    "            A[i][j] = A[i][j] - l*A[k][j]\n",
    "\n",
    "print(A)            \n",
    "      \n",
    "    "
   ]
  },
  {
   "cell_type": "markdown",
   "id": "17551f54",
   "metadata": {},
   "source": [
    "Determinant of a Matrix , First we use Gauss Elimination and then take product of the elements in the diagonal"
   ]
  },
  {
   "cell_type": "code",
   "execution_count": 29,
   "id": "c2b3ef4f",
   "metadata": {},
   "outputs": [
    {
     "name": "stdout",
     "output_type": "stream",
     "text": [
      "The determinant of the matrix A is : -35.0\n"
     ]
    }
   ],
   "source": [
    "det = 1\n",
    "for i in range(0,len(A)):\n",
    "    det *=A[i][i]\n",
    "print(\"The determinant of the matrix A is :\",det)    "
   ]
  }
 ],
 "metadata": {
  "kernelspec": {
   "display_name": "Python 3 (ipykernel)",
   "language": "python",
   "name": "python3"
  },
  "language_info": {
   "codemirror_mode": {
    "name": "ipython",
    "version": 3
   },
   "file_extension": ".py",
   "mimetype": "text/x-python",
   "name": "python",
   "nbconvert_exporter": "python",
   "pygments_lexer": "ipython3",
   "version": "3.9.13"
  }
 },
 "nbformat": 4,
 "nbformat_minor": 5
}
